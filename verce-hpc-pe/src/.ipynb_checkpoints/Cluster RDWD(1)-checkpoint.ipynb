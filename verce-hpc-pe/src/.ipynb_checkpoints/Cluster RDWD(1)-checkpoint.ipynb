{
 "cells": [
  {
   "cell_type": "code",
   "execution_count": 1,
   "metadata": {
    "collapsed": false
   },
   "outputs": [
    {
     "name": "stdout",
     "output_type": "stream",
     "text": [
      "SETTING NAME: TweetFeeds\n",
      "SETTING NAME: SimpleFunctionPE\n",
      "SETTING NAME: SimpleFunctionPE\n",
      "SETTING NAME: SimpleProcessingPE\n",
      "[0]\n",
      "SimplePE: Processed 1 iteration.\n"
     ]
    },
    {
     "data": {
      "text/plain": [
       "{'PE_multn2': {'output': [0.34169510687387344,\n",
       "   0.4811579258827297,\n",
       "   0.3574246060976153,\n",
       "   0.9847926084296184,\n",
       "   0.8589846609920074]}}"
      ]
     },
     "execution_count": 1,
     "metadata": {},
     "output_type": "execute_result"
    }
   ],
   "source": [
    "from dispel4py.workflow_graph import WorkflowGraph\n",
    "from dispel4py.provenance import *\n",
    "import time\n",
    "import random\n",
    "from dispel4py.base import create_iterative_chain, ConsumerPE, IterativePE, SimpleFunctionPE\n",
    "\n",
    "class TweetFeeds(IterativePE):\n",
    "\n",
    "    def __init__(self,index):\n",
    "        IterativePE.__init__(self)\n",
    "        #self._add_input('input')\n",
    "        #self._add_output('output')\n",
    "        self.index = index\n",
    "        \n",
    "    \n",
    "    def _process(self,inputs):\n",
    "        print inputs\n",
    "        iter=inputs[0]\n",
    "        while (iter<10):\n",
    "            #time.sleep(0.5)\n",
    "            val = random.random()\n",
    "            self.write('output',val,metadata={'iter':iter})\n",
    "            iter=iter+1\n",
    "        \n",
    "        \n",
    "        \n",
    "\n",
    "\n",
    "def readn(data):\n",
    "    \n",
    "    if (data>0.5):\n",
    "        prov={'format':'Random float', 'metadata':{'value':str(data)}}\n",
    "        return {'_d4p_prov':prov,'_d4p_data':data}\n",
    "    else:\n",
    "        prov={'format':'Random float', 'metadata':{'value':str(data)},'control':{'con:skip':True}}\n",
    "        return {'_d4p_prov':prov,'_d4p_data':\"None\"}\n",
    "    \n",
    "    \n",
    "def multn(data):\n",
    "    \n",
    "    if (data>0.5):\n",
    "        prov={'format':'Random float', 'metadata':{'value':str(data*data)}}\n",
    "        return {'_d4p_prov':prov,'_d4p_data':data*data}\n",
    "\n",
    "#processes=[waveform_reader,(plot_stream,{\"source\":\"waveform_reader\",\"output_dir\": \"./output-images\",\"tag\": \"observed-image\"})]\n",
    "\n",
    "#chain = create_iterative_chain(processes, FunctionPE_class=SimpleFunctionPE)\n",
    "\n",
    "feeds= TweetFeeds(0)\n",
    "feeds.name='source'\n",
    "readiv=SimpleFunctionPE(readn)\n",
    "mult=SimpleFunctionPE(multn)\n",
    "\n",
    "\n",
    "graph = WorkflowGraph()\n",
    "graph.connect(feeds,'output',readiv,'input')\n",
    "graph.connect(readiv,'output',mult,'input')\n",
    "\n",
    "graph.flatten()\n",
    "\n",
    "\n",
    "input_data = {\"source\": [{\"input\": [0]}]}\n",
    "\n",
    "\n",
    "\n",
    "simple_process.process_and_return(graph, input_data)\n",
    "\n",
    "\n",
    "\n",
    "\n"
   ]
  },
  {
   "cell_type": "code",
   "execution_count": 2,
   "metadata": {
    "collapsed": false
   },
   "outputs": [
    {
     "data": {
      "image/png": "[encoded data removed]"
     },
     "metadata": {},
     "output_type": "display_data"
    }
   ],
   "source": [
    "from dispel4py.visualisation import display\n",
    "\n",
    "display(graph)"
   ]
  },
  {
   "cell_type": "code",
   "execution_count": 3,
   "metadata": {
    "collapsed": false
   },
   "outputs": [
    {
     "name": "stdout",
     "output_type": "stream",
     "text": [
      "SETTING NAME: NewWorkflowRun\n",
      "SETTING NAME: ProvenanceRecorderToServiceBulk\n",
      "Inputs: {'NewWorkflowRun': [{'input': 'None'}]}\n",
      "SETTING NAME: SimpleProcessingPE\n",
      "RUN Metadata: {'username': 'aspinuso', 'workflowId': 'xx', 'description': '', 'mapping': '-f', 'system_id': None, 'runId': 'RDWD_247', 'startTime': '2015-12-09 00:21:15.827284', 'input': [], '_id': 'RDWD_247', 'type': 'workflow_run', 'workflowName': 'test_rdwd'}\n",
      "ProvenanceRecorderToServiceBulk4: Postprocress: (200, 'OK', <httplib.HTTPResponse instance at 0x1044b0b48>, '{\"inserts\": [\"RDWD_247\"], \"success\": true}')\n",
      "SimplePE: Processed 1 iteration.\n",
      "Outputs: {}\n",
      "Injecting provenance to: PE_multn Original type: (<class 'dispel4py.base.IterativePE'>,)\n",
      "Injecting provenance to: PE_multn Transoformed: <class 'dispel4py.provenance.<class 'dispel4py.base.SimpleFunctionPE'>'>\n",
      "Injecting provenance to: PE_readn Original type: (<class 'dispel4py.base.IterativePE'>,)\n",
      "Injecting provenance to: PE_readn Transoformed: <class 'dispel4py.provenance.<class 'dispel4py.base.SimpleFunctionPE'>'>\n",
      "Injecting provenance to: source Original type: (<class 'dispel4py.base.IterativePE'>,)\n",
      "Injecting provenance to: source Transoformed: <class 'dispel4py.provenance.<class '__main__.TweetFeeds'>'>\n",
      "NO PARTITIONS: []\n",
      "SETTING NAME: ProvenanceRecorderToServiceBulk\n",
      "SETTING NAME: ProvenanceRecorderToServiceBulk\n",
      "SETTING NAME: ProvenanceRecorderToServiceBulk\n",
      "SETTING NAME: ProvenanceRecorderToServiceBulk\n",
      "SETTING NAME: SimpleProcessingPE\n",
      "[0]\n",
      "source0: stateless \n",
      "PE_readn1: stateless \n",
      "PE_readn1: stateless \n",
      "PE_readn1: stateless \n",
      "PE_readn1: STATEFUL CAPTURE: \n",
      "PE_readn1: stateless \n",
      "PE_readn1: STATEFUL CAPTURE: \n",
      "PE_readn1: stateless \n",
      "PE_readn1: stateless \n",
      "PE_readn1: stateless \n",
      "PE_readn1: STATEFUL CAPTURE: \n",
      "PE_readn1: stateless \n",
      "PE_readn1: stateless \n",
      "PE_readn1: stateless \n",
      "PE_multn2: stateless \n",
      "PE_multn2: stateless \n",
      "PE_multn2: stateless \n",
      "PE_multn2: stateless \n",
      "PE_multn2: stateless \n",
      "PE_multn2: stateless \n",
      "PE_multn2: stateless \n",
      "ProvenanceRecorderToServiceBulk5: Postprocress: (200, 'OK', <httplib.HTTPResponse instance at 0x104e4c6c8>, '{\"inserts\": [\"PE_multn-orfeus-as-32472-c2c6ab8f-9e0a-11e5-9c6d-10ddb1b266f3\", \"PE_multn-orfeus-as-32472-c2c6b0fd-9e0a-11e5-b776-10ddb1b266f3\", \"PE_multn-orfeus-as-32472-c2c6b5e8-9e0a-11e5-8435-10ddb1b266f3\", \"PE_multn-orfeus-as-32472-c2c6bac2-9e0a-11e5-b031-10ddb1b266f3\", \"PE_multn-orfeus-as-32472-c2c6bf02-9e0a-11e5-8136-10ddb1b266f3\", \"PE_multn-orfeus-as-32472-c2c6c4cc-9e0a-11e5-b2c4-10ddb1b266f3\", \"PE_multn-orfeus-as-32472-c2c6c9ae-9e0a-11e5-9985-10ddb1b266f3\"], \"success\": true}')\n",
      "ProvenanceRecorderToServiceBulk7: Postprocress: (200, 'OK', <httplib.HTTPResponse instance at 0x104e4c680>, '{\"inserts\": [\"source-orfeus-as-32472-c2c63407-9e0a-11e5-8288-10ddb1b266f3\", \"source-orfeus-as-32472-c2c63926-9e0a-11e5-85c8-10ddb1b266f3\", \"source-orfeus-as-32472-c2c63cf0-9e0a-11e5-ae56-10ddb1b266f3\", \"source-orfeus-as-32472-c2c64075-9e0a-11e5-b1ef-10ddb1b266f3\", \"source-orfeus-as-32472-c2c643cf-9e0a-11e5-a263-10ddb1b266f3\", \"source-orfeus-as-32472-c2c646fa-9e0a-11e5-8c6d-10ddb1b266f3\", \"source-orfeus-as-32472-c2c64a73-9e0a-11e5-a2df-10ddb1b266f3\", \"source-orfeus-as-32472-c2c64f23-9e0a-11e5-8ec5-10ddb1b266f3\", \"source-orfeus-as-32472-c2c65438-9e0a-11e5-8bdb-10ddb1b266f3\", \"source-orfeus-as-32472-c2c657cf-9e0a-11e5-9ac8-10ddb1b266f3\"], \"success\": true}')\n",
      "ProvenanceRecorderToServiceBulk6: Postprocress: (200, 'OK', <httplib.HTTPResponse instance at 0x1044c40e0>, '{\"inserts\": [\"PE_readn-orfeus-as-32472-c2c6602b-9e0a-11e5-9b3b-10ddb1b266f3\", \"PE_readn-orfeus-as-32472-c2c66599-9e0a-11e5-abc5-10ddb1b266f3\", \"PE_readn-orfeus-as-32472-c2c66a7d-9e0a-11e5-9fa6-10ddb1b266f3\", \"PE_readn-orfeus-as-32472-c2c670e3-9e0a-11e5-b95d-10ddb1b266f3\", \"PE_readn-orfeus-as-32472-c2c67800-9e0a-11e5-86d9-10ddb1b266f3\", \"PE_readn-orfeus-as-32472-c2c68014-9e0a-11e5-a039-10ddb1b266f3\", \"PE_readn-orfeus-as-32472-c2c68835-9e0a-11e5-952d-10ddb1b266f3\", \"PE_readn-orfeus-as-32472-c2c691e6-9e0a-11e5-9a6b-10ddb1b266f3\", \"PE_readn-orfeus-as-32472-c2c69a23-9e0a-11e5-a8f9-10ddb1b266f3\", \"PE_readn-orfeus-as-32472-c2c6a280-9e0a-11e5-aa04-10ddb1b266f3\"], \"success\": true}')\n",
      "SimplePE: Processed 1 iteration.\n"
     ]
    },
    {
     "data": {
      "text/plain": [
       "{'PE_multn2': {'output': [{'TriggeredByProcessIterationID': 'PE_multn-orfeus-as-32472-c2c6ab8f-9e0a-11e5-9c6d-10ddb1b266f3',\n",
       "    '_d4p': 0.9334503323965977,\n",
       "    'id': 'orfeus-as-32472-c2c6acf5-9e0a-11e5-987e-10ddb1b266f3'},\n",
       "   {'TriggeredByProcessIterationID': 'PE_multn-orfeus-as-32472-c2c6b0fd-9e0a-11e5-b776-10ddb1b266f3',\n",
       "    '_d4p': 0.8325632153115848,\n",
       "    'id': 'orfeus-as-32472-c2c6b217-9e0a-11e5-9fd1-10ddb1b266f3'},\n",
       "   {'TriggeredByProcessIterationID': 'PE_multn-orfeus-as-32472-c2c6b5e8-9e0a-11e5-8435-10ddb1b266f3',\n",
       "    '_d4p': 0.32553955571737314,\n",
       "    'id': 'orfeus-as-32472-c2c6b751-9e0a-11e5-814e-10ddb1b266f3'},\n",
       "   {'TriggeredByProcessIterationID': 'PE_multn-orfeus-as-32472-c2c6bac2-9e0a-11e5-b031-10ddb1b266f3',\n",
       "    '_d4p': 0.5347988123418651,\n",
       "    'id': 'orfeus-as-32472-c2c6bbc5-9e0a-11e5-8b81-10ddb1b266f3'},\n",
       "   {'TriggeredByProcessIterationID': 'PE_multn-orfeus-as-32472-c2c6bf02-9e0a-11e5-8136-10ddb1b266f3',\n",
       "    '_d4p': 0.4845488135339624,\n",
       "    'id': 'orfeus-as-32472-c2c6c030-9e0a-11e5-bd8e-10ddb1b266f3'},\n",
       "   {'TriggeredByProcessIterationID': 'PE_multn-orfeus-as-32472-c2c6c4cc-9e0a-11e5-b2c4-10ddb1b266f3',\n",
       "    '_d4p': 0.826487279851392,\n",
       "    'id': 'orfeus-as-32472-c2c6c65c-9e0a-11e5-a9cc-10ddb1b266f3'},\n",
       "   {'TriggeredByProcessIterationID': 'PE_multn-orfeus-as-32472-c2c6c9ae-9e0a-11e5-9985-10ddb1b266f3',\n",
       "    '_d4p': 0.6442183275544823,\n",
       "    'id': 'orfeus-as-32472-c2c6cacf-9e0a-11e5-a781-10ddb1b266f3'}]},\n",
       " 'PE_readn1': {None: [{'TriggeredByProcessIterationID': 'PE_readn-orfeus-as-32472-c2c66a7d-9e0a-11e5-9fa6-10ddb1b266f3',\n",
       "    '_d4p': <dispel4py.provenance.<class 'dispel4py.base.SimpleFunctionPE'> at 0x104b3fb10>,\n",
       "    'id': 'orfeus-as-32472-c2c66ce8-9e0a-11e5-a0cd-10ddb1b266f3'},\n",
       "   {'TriggeredByProcessIterationID': 'PE_readn-orfeus-as-32472-c2c670e3-9e0a-11e5-b95d-10ddb1b266f3',\n",
       "    '_d4p': <dispel4py.provenance.<class 'dispel4py.base.SimpleFunctionPE'> at 0x104b3fb10>,\n",
       "    'id': 'orfeus-as-32472-c2c67359-9e0a-11e5-8774-10ddb1b266f3'},\n",
       "   {'TriggeredByProcessIterationID': 'PE_readn-orfeus-as-32472-c2c68835-9e0a-11e5-952d-10ddb1b266f3',\n",
       "    '_d4p': <dispel4py.provenance.<class 'dispel4py.base.SimpleFunctionPE'> at 0x104b3fb10>,\n",
       "    'id': 'orfeus-as-32472-c2c68c94-9e0a-11e5-ac85-10ddb1b266f3'}]}}"
      ]
     },
     "execution_count": 3,
     "metadata": {},
     "output_type": "execute_result"
    }
   ],
   "source": [
    "\n",
    "ProvenanceRecorderToServiceBulk.REPOS_URL='http://verce-portal-dev.scai.fraunhofer.de/j2ep-1.0/prov/workflow/insert'\n",
    "InitiateNewRun(graph,ProvenanceRecorderToServiceBulk,provImpClass=ProvenancePE,username='aspinuso',runId='RDWD_'+str(random.randint(0,400)),w3c_prov=False,workflowName=\"test_rdwd\",workflowId=\"xx\")\n",
    "\n",
    "\n",
    "simple_process.process_and_return(graph, input_data)"
   ]
  },
  {
   "cell_type": "code",
   "execution_count": null,
   "metadata": {
    "collapsed": false
   },
   "outputs": [],
   "source": [
    "from dispel4py.visualisation import display\n",
    "\n",
    "display(graph)"
   ]
  },
  {
   "cell_type": "code",
   "execution_count": null,
   "metadata": {
    "collapsed": true
   },
   "outputs": [],
   "source": []
  }
 ],
 "metadata": {
  "kernelspec": {
   "display_name": "Python 2",
   "language": "python",
   "name": "python2"
  },
  "language_info": {
   "codemirror_mode": {
    "name": "ipython",
    "version": 2
   },
   "file_extension": ".py",
   "mimetype": "text/x-python",
   "name": "python",
   "nbconvert_exporter": "python",
   "pygments_lexer": "ipython2",
   "version": "2.7.6"
  }
 },
 "nbformat": 4,
 "nbformat_minor": 0
}
