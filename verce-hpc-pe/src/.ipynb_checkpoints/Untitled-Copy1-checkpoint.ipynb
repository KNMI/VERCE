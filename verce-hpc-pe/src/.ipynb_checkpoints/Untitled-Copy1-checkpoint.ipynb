{
 "cells": [
  {
   "cell_type": "code",
   "execution_count": 1,
   "metadata": {
    "collapsed": true
   },
   "outputs": [],
   "source": [
    "from dispel4py.workflow_graph import WorkflowGraph\n",
    "from dispel4py.provenance import *\n",
    "from dispel4py.base import create_iterative_chain, ConsumerPE, IterativePE\n",
    "\n",
    "Class tweetFeeds(IterativePE)\n",
    "\n",
    "    def __init__(self,index):\n",
    "        IterativePE.__init__(self)\n",
    "        #self._add_input('input')\n",
    "        #self._add_output('output')\n",
    "        self.index = index\n",
    "        \n",
    "    \n",
    "    def _process(self,inputs):\n",
    "        \n",
    "        while (iter<10)\n",
    "            sleep(0,5)\n",
    "        \n",
    "\n",
    "\n",
    "def waveform_reader(data):\n",
    "    iter=0\n",
    "    \n",
    "    st = read(filename)\n",
    "    prov={'location':\"file://\"+socket.gethostname()+\"/\"+filename, 'format':'application/octet-stream', 'metadata':{'prov:type':'observed-waveform'}}\n",
    "    \n",
    "     \n",
    "    return {'_d4p_prov':prov,'_d4p_data':st}\n",
    "\n",
    "\n",
    "processes=[waveform_reader,(plot_stream,{\"source\":\"waveform_reader\",\"output_dir\": \"./output-images\",\"tag\": \"observed-image\"})]\n",
    "\n",
    "chain = create_iterative_chain(processes, FunctionPE_class=SimpleFunctionPE)"
   ]
  }
 ],
 "metadata": {
  "kernelspec": {
   "display_name": "Python 2",
   "language": "python",
   "name": "python2"
  },
  "language_info": {
   "codemirror_mode": {
    "name": "ipython",
    "version": 2
   },
   "file_extension": ".py",
   "mimetype": "text/x-python",
   "name": "python",
   "nbconvert_exporter": "python",
   "pygments_lexer": "ipython2",
   "version": "2.7.6"
  }
 },
 "nbformat": 4,
 "nbformat_minor": 0
}
