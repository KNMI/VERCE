{
 "cells": [
  {
   "cell_type": "code",
   "execution_count": 1,
   "metadata": {
    "collapsed": false,
    "scrolled": true
   },
   "outputs": [
    {
     "name": "stdout",
     "output_type": "stream",
     "text": [
      "SETTING NAME: Source\n",
      "SETTING NAME: SimpleFunctionPE\n",
      "SETTING NAME: SimpleFunctionPE\n",
      "SETTING NAME: SimpleFunctionPE\n",
      "SETTING NAME: SimpleFunctionPE\n",
      "SETTING NAME: SimpleProcessingPE\n",
      "[(0, 0)]\n",
      "SimplePE: Processed 1 iteration.\n"
     ]
    },
    {
     "data": {
      "text/plain": [
       "{}"
      ]
     },
     "execution_count": 1,
     "metadata": {},
     "output_type": "execute_result"
    }
   ],
   "source": [
    "from dispel4py.workflow_graph import WorkflowGraph \n",
    "from dispel4py.provenance import *\n",
    "import time\n",
    "import random\n",
    "from dispel4py.base import create_iterative_chain, ConsumerPE, IterativePE, SimpleFunctionPE\n",
    "\n",
    "class Source(IterativePE):\n",
    "\n",
    "    def __init__(self,index):\n",
    "        IterativePE.__init__(self)\n",
    "        #self._add_input('input')\n",
    "        #self._add_output('output')\n",
    "        self.index = index\n",
    "        \n",
    "    \n",
    "    def _process(self,inputs):\n",
    "        print inputs\n",
    "        iter=inputs[0]\n",
    "        while (iter<100):\n",
    "            #time.sleep(0.5)\n",
    "            val = random.random()\n",
    "            self.write('output',val,metadata={'iter':iter})\n",
    "            iter=iter+1\n",
    "        \n",
    "        \n",
    "        \n",
    "\n",
    "\n",
    "def readn(data):\n",
    "    \n",
    "    if (data>0.9):\n",
    "        prov={'format':'Random float', 'metadata':{'value_s':str(data)}}\n",
    "        return {'_d4p_prov':prov,'_d4p_data':data}\n",
    "        \n",
    "    \n",
    "    \n",
    "    \n",
    "def multn(data):\n",
    "    \n",
    "    if (True):\n",
    "        prov={'format':'Random float', 'metadata':{'value_z':data*data}}\n",
    "        print data\n",
    "        return {'_d4p_prov':prov,'_d4p_data':data*data}\n",
    "\n",
    "    \n",
    "    \n",
    "\n",
    "\n",
    "sc = Source(0)\n",
    "sc.name='source'\n",
    "\n",
    "\n",
    "readiv=SimpleFunctionPE(readn)\n",
    "mult=SimpleFunctionPE(multn)\n",
    "\n",
    "\n",
    "processes=[readn,multn]\n",
    "chain = create_iterative_chain(processes, FunctionPE_class=SimpleFunctionPE)\n",
    "\n",
    "#Initialise the graph\n",
    "graph = WorkflowGraph()\n",
    "\n",
    "#Common way of composing the graph\n",
    "graph.connect(sc,'output',readiv,'input')\n",
    "graph.connect(readiv,'output',mult,'input')\n",
    "\n",
    "\n",
    "# Alternatively with pipeline array\n",
    "#Create pipelines from functions\n",
    "\n",
    "#graph.connect(sc,'output',chain,'input')\n",
    "\n",
    "\n",
    "\n",
    "graph.flatten()\n",
    "\n",
    "#Prepare Input\n",
    "input_data = {\"source\": [{\"input\": [(0,0)]}]}\n",
    "\n",
    "#Launch in simple process\n",
    "simple_process.process_and_return(graph, input_data)\n",
    "\n",
    "\n",
    "\n"
   ]
  },
  {
   "cell_type": "code",
   "execution_count": 2,
   "metadata": {
    "collapsed": false
   },
   "outputs": [
    {
     "data": {
      "image/png": "[encoded data removed]"
     },
     "metadata": {},
     "output_type": "display_data"
    }
   ],
   "source": [
    "from dispel4py.visualisation import display\n",
    "\n",
    "display(graph)"
   ]
  },
  {
   "cell_type": "code",
   "execution_count": null,
   "metadata": {
    "collapsed": false
   },
   "outputs": [],
   "source": [
    "ProvenanceRecorderToServiceBulk.REPOS_URL='http://verce-portal-dev.scai.fraunhofer.de/j2ep-1.0/prov/workflow/insert'\n",
    "rid='RDWD_'+getUniqueId()\n",
    "InitiateNewRun(graph,ProvenanceRecorderToServiceBulk,provImpClass=ProvenancePE,username='aspinuso',runId=rid,w3c_prov=False,workflowName=\"test_rdwd\",workflowId=\"xx\")\n",
    "\n",
    "simple_process.process_and_return(graph, input_data)\n",
    "\n",
    "\n",
    "from IPython.display import HTML\n",
    "HTML(\"<iframe src='http://127.0.01:8080/provenance-explorer/html/d3js.jsp?level=PE&runId=\"+rid+\"' width=800 height=800></iframe>\")"
   ]
  },
  {
   "cell_type": "code",
   "execution_count": null,
   "metadata": {
    "collapsed": false
   },
   "outputs": [],
   "source": [
    "\n",
    "ProvenanceRecorderToServiceBulk.REPOS_URL='http://verce-portal-dev.scai.fraunhofer.de/j2ep-1.0/prov/workflow/insert'\n",
    "rid='RDWD_'+getUniqueId()\n",
    "#InitiateNewRun(graph,ProvenanceRecorderToServiceBulk,provImpClass=ProvenancePE,username='aspinuso',runId=rid,w3c_prov=False,workflowName=\"test_rdwd\",workflowId=\"xx\")\n",
    "\n",
    "extra_args=['-n', '3']\n",
    "dispel4py.new.processor.process_and_return(graph, input_data, 'multi',extra_args)\n",
    "\n",
    "\n",
    "\n",
    "#from IPython.display import HTML\n",
    "#HTML(\"<iframe src='http://127.0.01:8080/provenance-explorer/html/d3js.jsp?level=instances&runId=\"+rid+\"' width=800 height=800></iframe>\")"
   ]
  },
  {
   "cell_type": "code",
   "execution_count": null,
   "metadata": {
    "collapsed": false
   },
   "outputs": [],
   "source": [
    "from dispel4py.visualisation import display\n",
    "\n",
    "display(graph)"
   ]
  },
  {
   "cell_type": "code",
   "execution_count": null,
   "metadata": {
    "collapsed": true
   },
   "outputs": [],
   "source": []
  },
  {
   "cell_type": "code",
   "execution_count": null,
   "metadata": {
    "collapsed": true
   },
   "outputs": [],
   "source": []
  }
 ],
 "metadata": {
  "kernelspec": {
   "display_name": "Python 2",
   "language": "python",
   "name": "python2"
  },
  "language_info": {
   "codemirror_mode": {
    "name": "ipython",
    "version": 2
   },
   "file_extension": ".py",
   "mimetype": "text/x-python",
   "name": "python",
   "nbconvert_exporter": "python",
   "pygments_lexer": "ipython2",
   "version": "2.7.6"
  }
 },
 "nbformat": 4,
 "nbformat_minor": 0
}
